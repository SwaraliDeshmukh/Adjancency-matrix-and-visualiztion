{
  "nbformat": 4,
  "nbformat_minor": 0,
  "metadata": {
    "colab": {
      "provenance": [],
      "authorship_tag": "ABX9TyN/xB3oI2Py+KeCSFr7YBsL",
      "include_colab_link": true
    },
    "kernelspec": {
      "name": "python3",
      "display_name": "Python 3"
    },
    "language_info": {
      "name": "python"
    }
  },
  "cells": [
    {
      "cell_type": "markdown",
      "metadata": {
        "id": "view-in-github",
        "colab_type": "text"
      },
      "source": [
        "<a href=\"https://colab.research.google.com/github/SwaraliDeshmukh/Adjancency-matrix-and-visualiztion/blob/main/Untitled7.ipynb\" target=\"_parent\"><img src=\"https://colab.research.google.com/assets/colab-badge.svg\" alt=\"Open In Colab\"/></a>"
      ]
    },
    {
      "cell_type": "code",
      "execution_count": 1,
      "metadata": {
        "colab": {
          "base_uri": "https://localhost:8080/",
          "height": 206
        },
        "id": "VHRnKLvTJr-x",
        "outputId": "ab925791-829e-48f7-9286-844fdb502ed2"
      },
      "outputs": [
        {
          "output_type": "execute_result",
          "data": {
            "text/plain": [
              "         f0        f1        f2        f3        f4        f5        f6  \\\n",
              "0 -0.368016  0.698164 -0.305162  1.510681  0.683709  0.578886 -1.459221   \n",
              "1 -2.782846 -1.706489  1.317698 -2.150943 -0.797741 -1.998309 -0.279433   \n",
              "2 -1.520854  0.383342  1.703974 -0.912539  2.063183 -0.607595  0.044832   \n",
              "3  2.689637 -1.154617 -1.198926 -0.790872  0.358675  1.925390  9.230973   \n",
              "4  3.757601  0.837133 -0.128198  2.926628 -0.662674  0.135668 -1.181198   \n",
              "\n",
              "         f7        f8        f9  target  \n",
              "0  1.342327 -0.233032  0.635028     1.0  \n",
              "1  2.159505  1.961729  3.867486     1.0  \n",
              "2 -0.194808 -0.392005  0.508795     1.0  \n",
              "3 -5.872051  3.367797 -0.413147     1.0  \n",
              "4 -1.386723 -0.928650 -5.553162     0.0  "
            ],
            "text/html": [
              "\n",
              "  <div id=\"df-f07313e3-859d-422d-b452-ea418a812667\">\n",
              "    <div class=\"colab-df-container\">\n",
              "      <div>\n",
              "<style scoped>\n",
              "    .dataframe tbody tr th:only-of-type {\n",
              "        vertical-align: middle;\n",
              "    }\n",
              "\n",
              "    .dataframe tbody tr th {\n",
              "        vertical-align: top;\n",
              "    }\n",
              "\n",
              "    .dataframe thead th {\n",
              "        text-align: right;\n",
              "    }\n",
              "</style>\n",
              "<table border=\"1\" class=\"dataframe\">\n",
              "  <thead>\n",
              "    <tr style=\"text-align: right;\">\n",
              "      <th></th>\n",
              "      <th>f0</th>\n",
              "      <th>f1</th>\n",
              "      <th>f2</th>\n",
              "      <th>f3</th>\n",
              "      <th>f4</th>\n",
              "      <th>f5</th>\n",
              "      <th>f6</th>\n",
              "      <th>f7</th>\n",
              "      <th>f8</th>\n",
              "      <th>f9</th>\n",
              "      <th>target</th>\n",
              "    </tr>\n",
              "  </thead>\n",
              "  <tbody>\n",
              "    <tr>\n",
              "      <th>0</th>\n",
              "      <td>-0.368016</td>\n",
              "      <td>0.698164</td>\n",
              "      <td>-0.305162</td>\n",
              "      <td>1.510681</td>\n",
              "      <td>0.683709</td>\n",
              "      <td>0.578886</td>\n",
              "      <td>-1.459221</td>\n",
              "      <td>1.342327</td>\n",
              "      <td>-0.233032</td>\n",
              "      <td>0.635028</td>\n",
              "      <td>1.0</td>\n",
              "    </tr>\n",
              "    <tr>\n",
              "      <th>1</th>\n",
              "      <td>-2.782846</td>\n",
              "      <td>-1.706489</td>\n",
              "      <td>1.317698</td>\n",
              "      <td>-2.150943</td>\n",
              "      <td>-0.797741</td>\n",
              "      <td>-1.998309</td>\n",
              "      <td>-0.279433</td>\n",
              "      <td>2.159505</td>\n",
              "      <td>1.961729</td>\n",
              "      <td>3.867486</td>\n",
              "      <td>1.0</td>\n",
              "    </tr>\n",
              "    <tr>\n",
              "      <th>2</th>\n",
              "      <td>-1.520854</td>\n",
              "      <td>0.383342</td>\n",
              "      <td>1.703974</td>\n",
              "      <td>-0.912539</td>\n",
              "      <td>2.063183</td>\n",
              "      <td>-0.607595</td>\n",
              "      <td>0.044832</td>\n",
              "      <td>-0.194808</td>\n",
              "      <td>-0.392005</td>\n",
              "      <td>0.508795</td>\n",
              "      <td>1.0</td>\n",
              "    </tr>\n",
              "    <tr>\n",
              "      <th>3</th>\n",
              "      <td>2.689637</td>\n",
              "      <td>-1.154617</td>\n",
              "      <td>-1.198926</td>\n",
              "      <td>-0.790872</td>\n",
              "      <td>0.358675</td>\n",
              "      <td>1.925390</td>\n",
              "      <td>9.230973</td>\n",
              "      <td>-5.872051</td>\n",
              "      <td>3.367797</td>\n",
              "      <td>-0.413147</td>\n",
              "      <td>1.0</td>\n",
              "    </tr>\n",
              "    <tr>\n",
              "      <th>4</th>\n",
              "      <td>3.757601</td>\n",
              "      <td>0.837133</td>\n",
              "      <td>-0.128198</td>\n",
              "      <td>2.926628</td>\n",
              "      <td>-0.662674</td>\n",
              "      <td>0.135668</td>\n",
              "      <td>-1.181198</td>\n",
              "      <td>-1.386723</td>\n",
              "      <td>-0.928650</td>\n",
              "      <td>-5.553162</td>\n",
              "      <td>0.0</td>\n",
              "    </tr>\n",
              "  </tbody>\n",
              "</table>\n",
              "</div>\n",
              "      <button class=\"colab-df-convert\" onclick=\"convertToInteractive('df-f07313e3-859d-422d-b452-ea418a812667')\"\n",
              "              title=\"Convert this dataframe to an interactive table.\"\n",
              "              style=\"display:none;\">\n",
              "        \n",
              "  <svg xmlns=\"http://www.w3.org/2000/svg\" height=\"24px\"viewBox=\"0 0 24 24\"\n",
              "       width=\"24px\">\n",
              "    <path d=\"M0 0h24v24H0V0z\" fill=\"none\"/>\n",
              "    <path d=\"M18.56 5.44l.94 2.06.94-2.06 2.06-.94-2.06-.94-.94-2.06-.94 2.06-2.06.94zm-11 1L8.5 8.5l.94-2.06 2.06-.94-2.06-.94L8.5 2.5l-.94 2.06-2.06.94zm10 10l.94 2.06.94-2.06 2.06-.94-2.06-.94-.94-2.06-.94 2.06-2.06.94z\"/><path d=\"M17.41 7.96l-1.37-1.37c-.4-.4-.92-.59-1.43-.59-.52 0-1.04.2-1.43.59L10.3 9.45l-7.72 7.72c-.78.78-.78 2.05 0 2.83L4 21.41c.39.39.9.59 1.41.59.51 0 1.02-.2 1.41-.59l7.78-7.78 2.81-2.81c.8-.78.8-2.07 0-2.86zM5.41 20L4 18.59l7.72-7.72 1.47 1.35L5.41 20z\"/>\n",
              "  </svg>\n",
              "      </button>\n",
              "      \n",
              "  <style>\n",
              "    .colab-df-container {\n",
              "      display:flex;\n",
              "      flex-wrap:wrap;\n",
              "      gap: 12px;\n",
              "    }\n",
              "\n",
              "    .colab-df-convert {\n",
              "      background-color: #E8F0FE;\n",
              "      border: none;\n",
              "      border-radius: 50%;\n",
              "      cursor: pointer;\n",
              "      display: none;\n",
              "      fill: #1967D2;\n",
              "      height: 32px;\n",
              "      padding: 0 0 0 0;\n",
              "      width: 32px;\n",
              "    }\n",
              "\n",
              "    .colab-df-convert:hover {\n",
              "      background-color: #E2EBFA;\n",
              "      box-shadow: 0px 1px 2px rgba(60, 64, 67, 0.3), 0px 1px 3px 1px rgba(60, 64, 67, 0.15);\n",
              "      fill: #174EA6;\n",
              "    }\n",
              "\n",
              "    [theme=dark] .colab-df-convert {\n",
              "      background-color: #3B4455;\n",
              "      fill: #D2E3FC;\n",
              "    }\n",
              "\n",
              "    [theme=dark] .colab-df-convert:hover {\n",
              "      background-color: #434B5C;\n",
              "      box-shadow: 0px 1px 3px 1px rgba(0, 0, 0, 0.15);\n",
              "      filter: drop-shadow(0px 1px 2px rgba(0, 0, 0, 0.3));\n",
              "      fill: #FFFFFF;\n",
              "    }\n",
              "  </style>\n",
              "\n",
              "      <script>\n",
              "        const buttonEl =\n",
              "          document.querySelector('#df-f07313e3-859d-422d-b452-ea418a812667 button.colab-df-convert');\n",
              "        buttonEl.style.display =\n",
              "          google.colab.kernel.accessAllowed ? 'block' : 'none';\n",
              "\n",
              "        async function convertToInteractive(key) {\n",
              "          const element = document.querySelector('#df-f07313e3-859d-422d-b452-ea418a812667');\n",
              "          const dataTable =\n",
              "            await google.colab.kernel.invokeFunction('convertToInteractive',\n",
              "                                                     [key], {});\n",
              "          if (!dataTable) return;\n",
              "\n",
              "          const docLinkHtml = 'Like what you see? Visit the ' +\n",
              "            '<a target=\"_blank\" href=https://colab.research.google.com/notebooks/data_table.ipynb>data table notebook</a>'\n",
              "            + ' to learn more about interactive tables.';\n",
              "          element.innerHTML = '';\n",
              "          dataTable['output_type'] = 'display_data';\n",
              "          await google.colab.output.renderOutput(dataTable, element);\n",
              "          const docLink = document.createElement('div');\n",
              "          docLink.innerHTML = docLinkHtml;\n",
              "          element.appendChild(docLink);\n",
              "        }\n",
              "      </script>\n",
              "    </div>\n",
              "  </div>\n",
              "  "
            ]
          },
          "metadata": {},
          "execution_count": 1
        }
      ],
      "source": [
        "import pandas as pd\n",
        "from sklearn.datasets import make_classification\n",
        "import numpy as np\n",
        "\n",
        "#dataset 1\n",
        "X,y = make_classification(n_samples=2500, n_features=10, n_informative=5, n_classes=2,random_state=42)\n",
        "\n",
        "X_data = np.array(X)\n",
        "y_data = np.array(y)\n",
        "new_data = np.append(X_data ,y_data.reshape(-1,1),axis=1)\n",
        "df = pd.DataFrame(new_data,columns = ['f0', 'f1', 'f2', 'f3', 'f4',\"f5\" ,'f6', 'f7', 'f8',\"f9\" ,'target'])\n",
        "df.head()"
      ]
    },
    {
      "cell_type": "code",
      "source": [
        "#dataset 2\n",
        "X1,y1 = make_classification(n_samples=2500, n_features=12, n_informative=6, n_classes=2,random_state=42)\n",
        "\n",
        "X1_data = np.array(X1)\n",
        "y1_data = np.array(y1)\n",
        "new_Data = np.append(X1_data ,y1_data.reshape(-1,1),axis=1)\n",
        "df2 = pd.DataFrame(new_Data,columns = ['f0', 'f1', 'f2', 'f3','f4','f5','f6', 'f7', 'f8',\"f9\" ,'f10','f11','target'])\n",
        "df2.head()"
      ],
      "metadata": {
        "id": "ICtnSQ6USyiK"
      },
      "execution_count": null,
      "outputs": []
    },
    {
      "cell_type": "code",
      "source": [
        "from sklearn.preprocessing import StandardScaler\n",
        "\n",
        "# on the first dataset\n",
        "scaler = StandardScaler()\n",
        "df_ = df.copy()\n",
        "df_['f0'] = scaler.fit_transform(df[['f0']])\n",
        "df_['f1'] = scaler.fit_transform(df[['f1']])\n",
        "df_['f2'] = scaler.fit_transform(df[['f2']])\n",
        "df_['f3'] = scaler.fit_transform(df[['f3']])\n",
        "df_['f4'] = scaler.fit_transform(df[['f4']])\n",
        "\n",
        "df_.head()"
      ],
      "metadata": {
        "id": "lbfz-2XhKrSI"
      },
      "execution_count": null,
      "outputs": []
    },
    {
      "cell_type": "code",
      "source": [
        "\n",
        "# on the second dataset\n",
        "scaler2 = StandardScaler()\n",
        "df2_ = df.copy()\n",
        "df2_['f0'] = scaler2.fit_transform(df2[['f0']])\n",
        "df2_['f1'] = scaler2.fit_transform(df2[['f1']])\n",
        "df2_['f2'] = scaler2.fit_transform(df2[['f2']])\n",
        "df2_['f3'] = scaler2.fit_transform(df2[['f3']])\n",
        "df2_['f4'] = scaler2.fit_transform(df2[['f4']])\n",
        "\n",
        "df2_.head()"
      ],
      "metadata": {
        "id": "VJE8Ykc3Ky2Q"
      },
      "execution_count": null,
      "outputs": []
    },
    {
      "cell_type": "code",
      "source": [
        "from sklearn.model_selection import train_test_split\n",
        "\n",
        "#dataset 1\n",
        "y_ = df_['target']\n",
        "X_ = df_.drop(['target'],axis=1)\n",
        "X_train, X_test, y_train, y_test = train_test_split(X_,y_ , test_size=0.33, random_state=42)\n",
        "\n",
        "# dataset 2\n",
        "y2_ = df2_['target']\n",
        "X2_ = df2_.drop(['target'],axis=1)\n",
        "X2_train, X2_test, y2_train, y2_test = train_test_split(X2_,y2_ , test_size=0.33, random_state=42)\n"
      ],
      "metadata": {
        "id": "ChLmQnMjULCT"
      },
      "execution_count": null,
      "outputs": []
    },
    {
      "cell_type": "code",
      "source": [
        "from sklearn.linear_model import LogisticRegression\n",
        "\n",
        "clf = LogisticRegression(random_state=0).fit(X_train, y_train)\n",
        "clf.predict(X_test)\n",
        "\n",
        "score1 = clf.score(X_test,y_test)  # dataset 1 "
      ],
      "metadata": {
        "id": "VUwLhIlaTZEJ"
      },
      "execution_count": null,
      "outputs": []
    },
    {
      "cell_type": "code",
      "source": [
        "clf2 = LogisticRegression(random_state=0).fit(X2_train, y2_train)\n",
        "clf2.predict(X2_test)\n",
        "\n",
        "score2 = clf2.score(X2_test,y2_test) # dataset 2 "
      ],
      "metadata": {
        "id": "j-G7ZXFOVLYE"
      },
      "execution_count": null,
      "outputs": []
    },
    {
      "cell_type": "code",
      "source": [
        "from sklearn import svm\n",
        "\n",
        "clf3 = svm.SVC()\n",
        "clf3.fit(X_train, y_train)\n",
        "clf3.predict(X_test)\n",
        "\n",
        "score3 = clf3.score(X_test,y_test)  # dataset 1 "
      ],
      "metadata": {
        "id": "K--flekYVVQF"
      },
      "execution_count": null,
      "outputs": []
    },
    {
      "cell_type": "code",
      "source": [
        "clf4 = svm.SVC()\n",
        "clf4.fit(X2_train, y2_train)\n",
        "clf4.predict(X2_test)\n",
        "\n",
        "score4 = clf4.score(X2_test,y2_test)  # dataset 2 "
      ],
      "metadata": {
        "id": "dDrr_GJzWSzo"
      },
      "execution_count": null,
      "outputs": []
    },
    {
      "cell_type": "code",
      "source": [
        "# Splitting the un-scaled datasets\n",
        "\n",
        "#dataset 1\n",
        "y3_ = df['target']\n",
        "X3_ = df.drop(['target'],axis=1)\n",
        "X3_train, X3_test, y3_train, y3_test = train_test_split(X3_,y3_ , test_size=0.33, random_state=42)\n",
        "\n",
        "# dataset 2\n",
        "y4_ = df2['target']\n",
        "X4_ = df2.drop(['target'],axis=1)\n",
        "X4_train, X4_test, y4_train, y4_test = train_test_split(X4_,y4_ , test_size=0.33, random_state=42)\n"
      ],
      "metadata": {
        "id": "2feaxnstehYc"
      },
      "execution_count": null,
      "outputs": []
    },
    {
      "cell_type": "code",
      "source": [
        "clf5 = LogisticRegression(random_state=0).fit(X3_train, y3_train)\n",
        "clf5.predict(X3_test)\n",
        "\n",
        "score5 = clf5.score(X3_test,y3_test)  # dataset 1 "
      ],
      "metadata": {
        "id": "2fayMIIAfOIs"
      },
      "execution_count": null,
      "outputs": []
    },
    {
      "cell_type": "code",
      "source": [
        "clf6 = LogisticRegression(random_state=0).fit(X4_train, y4_train)\n",
        "clf6.predict(X4_test)\n",
        "\n",
        "score6 = clf6.score(X4_test,y4_test) # dataset 2 "
      ],
      "metadata": {
        "id": "UGzp07JKfUxF"
      },
      "execution_count": null,
      "outputs": []
    },
    {
      "cell_type": "code",
      "source": [
        "clf7 = svm.SVC()\n",
        "clf7.fit(X3_train, y3_train)\n",
        "clf7.predict(X3_test)\n",
        "\n",
        "score7 = clf7.score(X3_test,y3_test) # dataset 1"
      ],
      "metadata": {
        "id": "dHrn4DoofeSM"
      },
      "execution_count": null,
      "outputs": []
    },
    {
      "cell_type": "code",
      "source": [
        "clf8 = svm.SVC()\n",
        "clf8.fit(X4_train, y4_train)\n",
        "clf8.predict(X4_test)\n",
        "\n",
        "score8 = clf8.score(X4_test,y4_test) # dataset 2"
      ],
      "metadata": {
        "id": "W8naY1yLf2XY"
      },
      "execution_count": null,
      "outputs": []
    },
    {
      "cell_type": "code",
      "source": [
        "scores = [score1,score2,score3,score4,score5,score6,score7,score8]\n",
        "Model = ['Logistic','Logistic','SVM','SVM','Logistic','Logistic','SVM','SVM']\n",
        "Scaling = ['With','With','With','With','Without','Without','Without','Without']\n",
        "dataset_ = ['Dataset 1','Dataset2','Dataset 1','Dataset2','Dataset 1','Dataset2','Dataset 1','Dataset2']\n",
        "\n",
        "accuracyScore = pd.DataFrame({\"Model\":Model,\"Dataset\":dataset_,\"Scaling\":Scaling,'Score':scores})"
      ],
      "metadata": {
        "id": "2YOqCrUWgIYB"
      },
      "execution_count": null,
      "outputs": []
    },
    {
      "cell_type": "markdown",
      "source": [
        "### Inferences : \n",
        "\n",
        "- For the  both the dataset\n",
        "  - svm with standardScaler works better\n",
        "- SVM is better at handling non-linear dataset"
      ],
      "metadata": {
        "id": "-4NqmUpUYlvc"
      }
    },
    {
      "cell_type": "code",
      "source": [],
      "metadata": {
        "id": "fuzRn2dyWbil"
      },
      "execution_count": null,
      "outputs": []
    }
  ]
}